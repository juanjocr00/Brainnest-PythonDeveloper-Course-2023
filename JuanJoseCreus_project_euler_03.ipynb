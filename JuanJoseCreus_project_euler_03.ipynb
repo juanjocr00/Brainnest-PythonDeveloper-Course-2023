{
 "cells": [
  {
   "attachments": {},
   "cell_type": "markdown",
   "metadata": {},
   "source": [
    "1. \n",
    "\n",
    "In the United Kingdom the currency is made up of pound (£) and pence (p). There are eight coins in general circulation:\n",
    "\n",
    "    1p, 2p, 5p, 10p, 20p, 50p, £1 (100p), and £2 (200p).\n",
    "\n",
    "It is possible to make £2 in the following way:\n",
    "\n",
    "    1×£1 + 1×50p + 2×20p + 1×5p + 1×2p + 3×1p\n",
    "\n",
    "How many different ways can £2 be made using any number of coins?\n"
   ]
  },
  {
   "cell_type": "code",
   "execution_count": 1,
   "metadata": {},
   "outputs": [
    {
     "name": "stdout",
     "output_type": "stream",
     "text": [
      "73682\n"
     ]
    }
   ],
   "source": [
    "coins = [1, 2, 5, 10, 20, 50, 100, 200]\n",
    "ways = [0] * 201\n",
    "ways[0] = 1\n",
    "\n",
    "for coin in coins:\n",
    "    for i in range(coin, 201):\n",
    "        ways[i] += ways[i - coin]\n",
    "\n",
    "print(ways[200])"
   ]
  },
  {
   "attachments": {},
   "cell_type": "markdown",
   "metadata": {},
   "source": [
    "2. \n",
    "\n",
    "We shall say that an n-digit number is pandigital if it makes use of all the digits 1 to n exactly once; for example, the 5-digit number, 15234, is 1 through 5 pandigital.\n",
    "\n",
    "The product 7254 is unusual, as the identity, 39 × 186 = 7254, containing multiplicand, multiplier, and product is 1 through 9 pandigital.\n",
    "\n",
    "Find the sum of all products whose multiplicand/multiplier/product identity can be written as a 1 through 9 pandigital.\n",
    "HINT: Some products can be obtained in more than one way so be sure to only include it once in your sum.\n"
   ]
  },
  {
   "cell_type": "code",
   "execution_count": 2,
   "metadata": {},
   "outputs": [
    {
     "name": "stdout",
     "output_type": "stream",
     "text": [
      "45228\n"
     ]
    }
   ],
   "source": [
    "def is_pandigital(a, b, c):\n",
    "    digits = sorted(str(a) + str(b) + str(c))\n",
    "    return digits == ['1', '2', '3', '4', '5', '6', '7', '8', '9']\n",
    "\n",
    "products = set()\n",
    "\n",
    "for a in range(1, 9999):\n",
    "    for b in range(1, int(10000/a) + 1):\n",
    "        product = a * b\n",
    "        if is_pandigital(a, b, product):\n",
    "            products.add(product)\n",
    "\n",
    "sum_of_products = sum(products)\n",
    "print(sum_of_products)\n"
   ]
  },
  {
   "attachments": {},
   "cell_type": "markdown",
   "metadata": {},
   "source": [
    "3. \n",
    "\n",
    "The fraction 49/98 is a curious fraction, as an inexperienced mathematician in attempting to simplify it may incorrectly believe that 49/98 = 4/8, which is correct, is obtained by cancelling the 9s.\n",
    "\n",
    "We shall consider fractions like, 30/50 = 3/5, to be trivial examples.\n",
    "\n",
    "There are exactly four non-trivial examples of this type of fraction, less than one in value, and containing two digits in the numerator and denominator.\n",
    "\n",
    "If the product of these four fractions is given in its lowest common terms, find the value of the denominator.\n"
   ]
  },
  {
   "cell_type": "code",
   "execution_count": 11,
   "metadata": {},
   "outputs": [
    {
     "name": "stdout",
     "output_type": "stream",
     "text": [
      "100\n"
     ]
    }
   ],
   "source": [
    "def find_common_digit(num, denom):\n",
    "    num_str = str(num)\n",
    "    denom_str = str(denom)\n",
    "    for digit in num_str:\n",
    "        if digit in denom_str and digit != '0':\n",
    "            return int(digit)\n",
    "    return -1\n",
    "\n",
    "def cancel_digit(num, digit):\n",
    "    num_str = str(num)\n",
    "    return int(num_str.replace(str(digit), '', 1))\n",
    "\n",
    "def find_value_of_denominator():\n",
    "    product_num = 1\n",
    "    product_denom = 1\n",
    "    for numerator in range(10, 99):\n",
    "        for denominator in range(numerator + 1, 100):\n",
    "            common_digit = find_common_digit(numerator, denominator)\n",
    "            if common_digit != -1:\n",
    "                simplified_num = cancel_digit(numerator, common_digit)\n",
    "                simplified_denom = cancel_digit(denominator, common_digit)\n",
    "                if simplified_denom != 0 and numerator / denominator == simplified_num / simplified_denom:\n",
    "                    product_num *= simplified_num\n",
    "                    product_denom *= simplified_denom\n",
    "\n",
    "    gcd = math.gcd(product_num, product_denom)\n",
    "    simplified_denominator = product_denom // gcd\n",
    "\n",
    "    return simplified_denominator\n",
    "\n",
    "\n",
    "denominator = find_value_of_denominator()\n",
    "print(denominator)\n",
    "\n"
   ]
  },
  {
   "attachments": {},
   "cell_type": "markdown",
   "metadata": {},
   "source": [
    "4. \n",
    "\n",
    "145 is a curious number, as 1! + 4! + 5! = 1 + 24 + 120 = 145.\n",
    "\n",
    "Find the sum of all numbers which are equal to the sum of the factorial of their digits.\n",
    "\n",
    "Note: As 1! = 1 and 2! = 2 are not sums they are not included.\n"
   ]
  },
  {
   "cell_type": "code",
   "execution_count": 12,
   "metadata": {},
   "outputs": [
    {
     "name": "stdout",
     "output_type": "stream",
     "text": [
      "40730\n"
     ]
    }
   ],
   "source": [
    "import math\n",
    "\n",
    "def find_factorial_sum():\n",
    "    upper_limit = 10**7\n",
    "    factorial_sums = []\n",
    "\n",
    "    for num in range(3, upper_limit):\n",
    "        digit_factorial_sum = sum(math.factorial(int(digit)) for digit in str(num))\n",
    "        if digit_factorial_sum == num:\n",
    "            factorial_sums.append(num)\n",
    "\n",
    "    return sum(factorial_sums)\n",
    "\n",
    "sum_of_numbers = find_factorial_sum()\n",
    "print(sum_of_numbers)"
   ]
  },
  {
   "attachments": {},
   "cell_type": "markdown",
   "metadata": {},
   "source": [
    "5. \n",
    "\n",
    "The number, 197, is called a circular prime because all rotations of the digits: 197, 971, and 719, are themselves prime.\n",
    "\n",
    "There are thirteen such primes below 100: 2, 3, 5, 7, 11, 13, 17, 31, 37, 71, 73, 79, and 97.\n",
    "\n",
    "How many circular primes are there below one million?\n"
   ]
  },
  {
   "cell_type": "code",
   "execution_count": 14,
   "metadata": {},
   "outputs": [
    {
     "name": "stdout",
     "output_type": "stream",
     "text": [
      "55\n"
     ]
    }
   ],
   "source": [
    "def sieve_of_eratosthenes(n):\n",
    "    sieve = [True] * (n + 1)\n",
    "    sieve[0] = sieve[1] = False\n",
    "    for i in range(2, int(n ** 0.5) + 1):\n",
    "        if sieve[i]:\n",
    "            sieve[i * i: n + 1: i] = [False] * len(range(i * i, n + 1, i))\n",
    "    return [i for i, x in enumerate(sieve) if x]\n",
    "\n",
    "def is_circular_prime(n, primes_set):\n",
    "    s = str(n)\n",
    "    for i in range(len(s)):\n",
    "        if int(s[i:] + s[:i]) not in primes_set:\n",
    "            return False\n",
    "    return True\n",
    "\n",
    "primes = sieve_of_eratosthenes(999999)\n",
    "primes_set = set(primes)\n",
    "circular_primes = set()\n",
    "for p in primes:\n",
    "    if is_circular_prime(p, primes_set):\n",
    "        circular_primes.add(p)\n",
    "print(len(circular_primes))\n",
    "\n"
   ]
  }
 ],
 "metadata": {
  "kernelspec": {
   "display_name": "Python 3",
   "language": "python",
   "name": "python3"
  },
  "language_info": {
   "codemirror_mode": {
    "name": "ipython",
    "version": 3
   },
   "file_extension": ".py",
   "mimetype": "text/x-python",
   "name": "python",
   "nbconvert_exporter": "python",
   "pygments_lexer": "ipython3",
   "version": "3.10.11"
  },
  "orig_nbformat": 4
 },
 "nbformat": 4,
 "nbformat_minor": 2
}
